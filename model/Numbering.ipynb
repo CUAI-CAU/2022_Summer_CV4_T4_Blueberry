{
  "nbformat": 4,
  "nbformat_minor": 0,
  "metadata": {
    "colab": {
      "name": "Numbering.ipynb",
      "provenance": []
    },
    "kernelspec": {
      "name": "python3",
      "display_name": "Python 3"
    },
    "language_info": {
      "name": "python"
    }
  },
  "cells": [
    {
      "cell_type": "code",
      "source": [
        "# 구글 드라이브 연동\n",
        "\n",
        "from google.colab import drive\n",
        "drive.mount('/content/drive') "
      ],
      "metadata": {
        "id": "Ih3PSCf7tjd9"
      },
      "execution_count": null,
      "outputs": []
    },
    {
      "cell_type": "code",
      "source": [
        "# 파일 내 이미지 데이터 확인\n",
        "\n",
        "!ls \"/content/drive/My Drive/conference2\""
      ],
      "metadata": {
        "id": "tKfBttWW5Cp_"
      },
      "execution_count": null,
      "outputs": []
    },
    {
      "cell_type": "code",
      "source": [
        "# 넘버링 코드\n",
        "\n",
        "import os\n",
        "\n",
        "foler_path = \"/content/drive/My Drive/conference2\" #-- 파일이 저장된 폴더 경로\n",
        "folderlist = os.listdir(foler_path)\n",
        "\n",
        "i = 2526 # 초기 번호\n",
        "\n",
        "for name in folderlist:\n",
        "    src = os.path.join(foler_path, name)\n",
        "    dst = 'zoom_out' + format(i, '04')  #-- 파일명 지정\n",
        "    dst = os.path.join(foler_path, dst)\n",
        "    os.rename(src,dst)\n",
        "    i = i + 1"
      ],
      "metadata": {
        "id": "qfIezPt85Cih"
      },
      "execution_count": null,
      "outputs": []
    }
  ]
}